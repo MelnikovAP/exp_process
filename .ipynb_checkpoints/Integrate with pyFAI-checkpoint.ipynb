{
 "cells": [
  {
   "cell_type": "markdown",
   "metadata": {
    "hide_input": false
   },
   "source": [
    "# Integrate with pyFAI\n",
    "---"
   ]
  },
  {
   "cell_type": "markdown",
   "metadata": {},
   "source": [
    "### Jupyter setup"
   ]
  },
  {
   "cell_type": "code",
   "execution_count": 3,
   "metadata": {
    "hide_input": true,
    "scrolled": true
   },
   "outputs": [
    {
     "name": "stdout",
     "output_type": "stream",
     "text": [
      "! *Do not edit this cell if you are not sure in what you are doing* !\n"
     ]
    }
   ],
   "source": [
    "%matplotlib nbagg\n",
    "# The notebook interface (nbagg) is needed in jupyter-notebook while the widget is recommended for jupyer lab\n",
    "# %matplotlib widget\n",
    "\n",
    "import pyFAI\n",
    "#import pyFAI.test.utilstest\n",
    "import fabio\n",
    "import matplotlib.pyplot as plt\n",
    "from pyFAI.gui import jupyter\n",
    "from pyFAI.gui.jupyter.calib import Calibration\n",
    "from pyFAI.goniometer import SingleGeometry\n",
    "import silx.io as silx\n",
    "import numpy as np\n",
    "import h5py\n",
    "from tqdm.notebook import tqdm as log_progress\n",
    "# print(f\"PyFAI version {pyFAI.version}\")\n",
    "\n",
    "from IPython.display import HTML\n",
    "from IPython.display import clear_output\n",
    "from IPython.display import display\n",
    "import ipywidgets\n",
    "import os\n",
    "\n",
    "print(\"! *Do not edit this cell if you are not sure in what you are doing* !\")"
   ]
  },
  {
   "cell_type": "markdown",
   "metadata": {
    "hide_input": true,
    "tags": [
     "hide-input"
    ]
   },
   "source": [
    "### Setting paths:"
   ]
  },
  {
   "cell_type": "code",
   "execution_count": 4,
   "metadata": {
    "hide_input": true,
    "scrolled": false
   },
   "outputs": [
    {
     "data": {
      "application/vnd.jupyter.widget-view+json": {
       "model_id": "ce75b413b35d443f89028caf1db1f81b",
       "version_major": 2,
       "version_minor": 0
      },
      "text/plain": [
       "VBox(children=(Text(value='', description='Session path:', placeholder='enter session path'), Button(descripti…"
      ]
     },
     "metadata": {},
     "output_type": "display_data"
    }
   ],
   "source": [
    "session_path_input = ipywidgets.Text(placeholder='enter session path',\n",
    "                                    description='Session path:',\n",
    "                                    disabled=False)\n",
    "btn_1 = ipywidgets.Button(description='View')\n",
    "out_1 = ipywidgets.Output()\n",
    "\n",
    "def btn_1_eventhandler(obj):\n",
    "    global session_path\n",
    "    session_path = session_path_input.value\n",
    "    with out_1:\n",
    "        out_1.clear_output()\n",
    "        !tree $session_path -L 1\n",
    "    \n",
    "btn_1.on_click(btn_1_eventhandler)\n",
    "\n",
    "items_1 = [session_path_input, btn_1, out_1]\n",
    "box_1 = ipywidgets.VBox(children=items_1)\n",
    "display(box_1)"
   ]
  },
  {
   "cell_type": "code",
   "execution_count": 5,
   "metadata": {
    "hide_input": true,
    "tags": [
     "hide-input"
    ]
   },
   "outputs": [
    {
     "data": {
      "application/vnd.jupyter.widget-view+json": {
       "model_id": "568547ef560c4ca9a474fe44e2442ef2",
       "version_major": 2,
       "version_minor": 0
      },
      "text/plain": [
       "VBox(children=(Text(value='', description='Sample folder:', placeholder='enter sample folder'), Button(descrip…"
      ]
     },
     "metadata": {},
     "output_type": "display_data"
    }
   ],
   "source": [
    "sample_path_input = ipywidgets.Text(placeholder='enter sample folder',\n",
    "                                    description='Sample folder:',\n",
    "                                    disabled=False)\n",
    "btn_2 = ipywidgets.Button(description='View')\n",
    "out_2 = ipywidgets.Output()\n",
    "\n",
    "def btn_2_eventhandler(obj):\n",
    "    global sample_path\n",
    "    sample_path = session_path + '/'+sample_path_input.value\n",
    "    with out_2:\n",
    "        out_2.clear_output()\n",
    "        !tree $sample_path -L 2\n",
    "    \n",
    "    \n",
    "btn_2.on_click(btn_2_eventhandler)\n",
    "\n",
    "items_2 = [sample_path_input, btn_2, out_2]\n",
    "box_2 = ipywidgets.VBox(children=items_2)\n",
    "display(box_2)"
   ]
  },
  {
   "cell_type": "code",
   "execution_count": 6,
   "metadata": {
    "hide_input": true,
    "scrolled": true,
    "tags": [
     "hide-input"
    ]
   },
   "outputs": [
    {
     "data": {
      "application/vnd.jupyter.widget-view+json": {
       "model_id": "3eacfc19a3c34be58bb53e850b332efd",
       "version_major": 2,
       "version_minor": 0
      },
      "text/plain": [
       "VBox(children=(Text(value='', description='File name:', placeholder='enter file name'), Button(description='Ap…"
      ]
     },
     "metadata": {},
     "output_type": "display_data"
    }
   ],
   "source": [
    "file_path_input = ipywidgets.Text(placeholder='enter file name',\n",
    "                                    description='File name:',\n",
    "                                    disabled=False)\n",
    "\n",
    "btn_3 = ipywidgets.Button(description='Apply')\n",
    "out_3 = ipywidgets.Output()\n",
    "\n",
    "def btn_3_eventhandler(obj):\n",
    "    global file_path\n",
    "    file_path = sample_path + '/'+file_path_input.value\n",
    "    with out_3:\n",
    "        out_3.clear_output()\n",
    "        if os.path.exists(file_path):\n",
    "            print('Selected file is: {}'.format(file_path))\n",
    "        else:\n",
    "            print('Wrong path selected!')\n",
    "        \n",
    "btn_3.on_click(btn_3_eventhandler)\n",
    "\n",
    "items_3 = [file_path_input, btn_3, out_3]\n",
    "box_3 = ipywidgets.VBox(children=items_3)\n",
    "display(box_3)"
   ]
  },
  {
   "cell_type": "code",
   "execution_count": 7,
   "metadata": {
    "hide_input": true,
    "tags": [
     "hide-input"
    ]
   },
   "outputs": [
    {
     "data": {
      "application/vnd.jupyter.widget-view+json": {
       "model_id": "493e6d0c1f064f3f80f3e228c9317b68",
       "version_major": 2,
       "version_minor": 0
      },
      "text/plain": [
       "VBox(children=(Text(value='', description='Process path:', placeholder='enter path to save files'), Button(des…"
      ]
     },
     "metadata": {},
     "output_type": "display_data"
    }
   ],
   "source": [
    "proc_path_input = ipywidgets.Text(placeholder='enter path to save files',\n",
    "                                    description='Process path:',\n",
    "                                    disabled=False)\n",
    "btn_4 = ipywidgets.Button(description='Apply')\n",
    "out_4 = ipywidgets.Output()\n",
    "\n",
    "def btn_4_eventhandler(obj):\n",
    "    global proc_path\n",
    "    proc_path = os.path.abspath(proc_path_input.value)\n",
    "    with out_4:\n",
    "        out_4.clear_output()\n",
    "        if os.path.exists(proc_path):\n",
    "            print('Selected folder to save files is: {}'.format(proc_path))\n",
    "        else:\n",
    "            print('Wrong path selected!')\n",
    "    \n",
    "btn_4.on_click(btn_4_eventhandler)\n",
    "\n",
    "items_4 = [proc_path_input, btn_4, out_4]\n",
    "box_4 = ipywidgets.VBox(children=items_4)\n",
    "display(box_4)"
   ]
  },
  {
   "cell_type": "markdown",
   "metadata": {
    "hide_input": false
   },
   "source": [
    "### Get the list of scans stored in h5 file and select scan to process:\n",
    "\n",
    "All the scans made at ESRF are saved in common h5 file under indexes \"1.1\", \"1.2\", etc.  \n",
    "Press button to get scans stored in selected .h5 file, select one you need and specify the name of the scan. It will be used as a prefix while saving files."
   ]
  },
  {
   "cell_type": "code",
   "execution_count": 43,
   "metadata": {
    "hide_input": true,
    "scrolled": false
   },
   "outputs": [
    {
     "data": {
      "application/vnd.jupyter.widget-view+json": {
       "model_id": "07b4266f630446d49dfdf6f5a738eb53",
       "version_major": 2,
       "version_minor": 0
      },
      "text/plain": [
       "VBox(children=(Button(description='Get keys in .h5', style=ButtonStyle()), Dropdown(description='Key #:', opti…"
      ]
     },
     "metadata": {},
     "output_type": "display_data"
    }
   ],
   "source": [
    "btn_5 = ipywidgets.Button(description='Get keys in .h5')\n",
    "file_keys = []\n",
    "select_key = ipywidgets.Dropdown(options=file_keys,\n",
    "                                        description='Key #:')\n",
    "\n",
    "def btn_5_eventhandler(obj):\n",
    "    global file_keys\n",
    "    with silx.open(file_path) as f:\n",
    "        file_keys = list(f.keys())\n",
    "        select_key.options = file_keys\n",
    "        \n",
    "btn_5.on_click(btn_5_eventhandler)\n",
    "\n",
    "btn_6 = ipywidgets.Button(description='Apply')\n",
    "out_6 = ipywidgets.Output()\n",
    "\n",
    "def btn_6_eventhandler(obj):\n",
    "    global key, measurement_path, eiger_path, N_frames\n",
    "    key = select_key.value\n",
    "    \n",
    "    measurement_path = key + '/measurement'\n",
    "    eiger_path = measurement_path + '/eiger'\n",
    "    with silx.open(file_path) as f:\n",
    "        N_frames = f[eiger_path].shape[0]\n",
    "        imsize_x = f[eiger_path].shape[1]\n",
    "        imsize_y = f[eiger_path].shape[2]\n",
    "    \n",
    "        with out_6:\n",
    "            out_6.clear_output()\n",
    "            print('Selected key is: {}'.format(key))\n",
    "\n",
    "#             for name, item in f[measurement_path].items():\n",
    "#                 print(item)\n",
    "            print('Number of frames in the key scan : {}'.format(N_frames))\n",
    "            print('Single frame size : {} x {}'.format(imsize_x, imsize_y))\n",
    "    \n",
    "btn_6.on_click(btn_6_eventhandler)\n",
    "\n",
    "\n",
    "items_6 = [btn_5, select_key, btn_6, out_6]\n",
    "box_6 = ipywidgets.VBox(children=items_6)\n",
    "\n",
    "display(box_6)"
   ]
  },
  {
   "cell_type": "markdown",
   "metadata": {
    "hide_input": true
   },
   "source": [
    "### Set up integration parameters"
   ]
  },
  {
   "cell_type": "code",
   "execution_count": 39,
   "metadata": {
    "hide_input": true,
    "scrolled": false
   },
   "outputs": [
    {
     "data": {
      "application/vnd.jupyter.widget-view+json": {
       "model_id": "666892c8ff4146dcbd795c25eb52790c",
       "version_major": 2,
       "version_minor": 0
      },
      "text/plain": [
       "VBox(children=(Text(value='', description='Scan name:', placeholder='enter scan name (file prefix)'), Text(val…"
      ]
     },
     "metadata": {},
     "output_type": "display_data"
    }
   ],
   "source": [
    "scan_name_input = ipywidgets.Text(placeholder='enter scan name (file prefix)',\n",
    "                                    description='Scan name:',\n",
    "                                    disabled=False)\n",
    "\n",
    "mask_path_input = ipywidgets.Text(placeholder='enter mask path',\n",
    "                                    description='Mask path:',\n",
    "                                    disabled=False)\n",
    "poni_path_input = ipywidgets.Text(placeholder='enter poni path',\n",
    "                                    description='Poni path:',\n",
    "                                    disabled=False)\n",
    "\n",
    "units_dict = {\"q, 1/nm\":\"q_nm^-1\", \n",
    "                 \"q, 1/A\":\"q_A^-1\", \n",
    "                 \"2 theta\":\"2th_deg\", \n",
    "                 \"r, mm\":\"r_mm\"}\n",
    "select_units = ipywidgets.Dropdown(options=list(units_dict.keys()),\n",
    "                                        description='Units:')\n",
    "\n",
    "integrate_2d_chkb = ipywidgets.Checkbox(value=False,\n",
    "                                        description='Perform 2d integration',\n",
    "                                        disabled=False,\n",
    "                                        indent=False)\n",
    "integrate_1d_chkb = ipywidgets.Checkbox(value=False,\n",
    "                                        description='Perform 1d integration',\n",
    "                                        disabled=False,\n",
    "                                        indent=False)\n",
    "\n",
    "integrate_2d_points_input = ipywidgets.IntText(value=1000,\n",
    "                                                description='Points:',\n",
    "                                                disabled=False)\n",
    "integrate_1d_points_input = ipywidgets.IntText(value=1000,\n",
    "                                                description='Points:',\n",
    "                                                disabled=False)\n",
    "\n",
    "integrate_2d_degrees_input = ipywidgets.IntText(value=360,\n",
    "                                                description='Degrees:',\n",
    "                                                disabled=False)\n",
    "\n",
    "btn_9 = ipywidgets.Button(description='Apply')\n",
    "out_9 = ipywidgets.Output()\n",
    "\n",
    "def btn_9_eventhandler(obj):\n",
    "    global prefix, mask_path, poni_path, units, INTEGRATE_1D_FALG, INTEGRATE_2D_FALG, \\\n",
    "            points_1d, points_2d, degrees_2d\n",
    "    prefix = scan_name_input.value\n",
    "    mask_path = mask_path_input.value\n",
    "    poni_path = poni_path_input.value\n",
    "    units = select_units.value\n",
    "    INTEGRATE_1D_FALG = integrate_1d_chkb.value\n",
    "    INTEGRATE_2D_FALG = integrate_2d_chkb.value\n",
    "    points_1d = integrate_1d_points_input.value\n",
    "    points_2d = integrate_2d_points_input.value\n",
    "    degrees_2d = integrate_2d_degrees_input.value\n",
    "    \n",
    "    with out_9:\n",
    "        out_9.clear_output()\n",
    "        print('File prefix will be used: {}'.format(scan_name))\n",
    "        if os.path.exists(mask_path):\n",
    "            print('Selected mask file is: {}'.format(mask_path))\n",
    "        else:\n",
    "            print('Wrong path for mask selected!')\n",
    "        if os.path.exists(poni_path):\n",
    "            print('Selected poni file is: {}'.format(poni_path))\n",
    "        else:\n",
    "            print('Wrong path for poni selected!')\n",
    "        \n",
    "btn_9.on_click(btn_9_eventhandler)\n",
    "\n",
    "items_integr = ipywidgets.HBox([integrate_2d_chkb, integrate_1d_chkb])\n",
    "params_integr = ipywidgets.HBox([integrate_2d_points_input, integrate_1d_points_input])\n",
    "items_9 = [scan_name_input, mask_path_input, poni_path_input, select_units, \n",
    "           items_integr, params_integr, integrate_2d_degrees_input,\n",
    "           btn_9, out_9]\n",
    "box_9 = ipywidgets.VBox(children=items_9)\n",
    "display(box_9)"
   ]
  },
  {
   "cell_type": "markdown",
   "metadata": {},
   "source": [
    "Specify frames to integrate:\n",
    "- **99** - single number for just one single frame;  \n",
    "- **43, 44, 78** - list of numbers for selected frames;  \n",
    "- **10-45** - for range of frames;  \n",
    "By default the whole dataset will be used: **0-{Number of frames in dataset}**"
   ]
  },
  {
   "cell_type": "code",
   "execution_count": 60,
   "metadata": {
    "hide_input": true
   },
   "outputs": [
    {
     "data": {
      "application/vnd.jupyter.widget-view+json": {
       "model_id": "512c36e4a25c4f5b9d1ab9bc2ec6fafa",
       "version_major": 2,
       "version_minor": 0
      },
      "text/plain": [
       "VBox(children=(Text(value='0-2500', description='Frame range:'), Button(description='Calculate', style=ButtonS…"
      ]
     },
     "metadata": {},
     "output_type": "display_data"
    }
   ],
   "source": [
    "frame_numbers_input = ipywidgets.Text(value='0-{}'.format(N_frames),\n",
    "                                    description='Frame range:',\n",
    "                                    disabled=False)\n",
    "btn_10 = ipywidgets.Button(description='Calculate')\n",
    "out_10 = ipywidgets.Output()\n",
    "\n",
    "def btn_10_eventhandler(obj):\n",
    "    global frame_numbers\n",
    "    frame_numbers_input_str = frame_numbers_input.value\n",
    "    if ',' in frame_numbers_input_str:\n",
    "        frame_numbers = list(map(int, frame_numbers_input_str.split(',')))\n",
    "    elif '-' in frame_numbers_input_str:\n",
    "        a = int(frame_numbers_input_str.split('-')[0])\n",
    "        b = int(frame_numbers_input_str.split('-')[1])\n",
    "        frame_numbers = list(range(a,b))\n",
    "        \n",
    "    pyfai_units = units_dict[units]\n",
    "    mask = fabio.open(mask_path).data\n",
    "    ai = pyFAI.load(poni_path)\n",
    "    \n",
    "    res_1d = []\n",
    "    res_2d = []\n",
    "    frame_index = []\n",
    "    \n",
    "    DAT_UNITS_FLAG = False\n",
    "    AZIM_UNITS_FLAG = False\n",
    "    \n",
    "    with out_10:\n",
    "        out_10.clear_output()\n",
    "        with silx.open(file_path) as f:\n",
    "            for i in log_progress(frame_numbers, desc='Integration progress'):\n",
    "                frame = f[eiger_path][i]\n",
    "\n",
    "                if integrate_1d:\n",
    "                    res = ai.integrate1d(frame, points_1d, mask=mask, unit=pyfai_units)\n",
    "                    if not DAT_UNITS_FLAG:\n",
    "                        units_1d_to_save = res[0]\n",
    "                        DAT_UNITS_FLAG = True\n",
    "\n",
    "                    res_1d.append(res[1])\n",
    "\n",
    "                if integrate_2d:\n",
    "                    res = ai.integrate2d_ng(frame, points_2d, degrees_2d, unit=pyfai_units)\n",
    "                    if not AZIM_UNITS_FLAG:\n",
    "                        units_2d_to_save = res[1]\n",
    "                        degrees_2d_to_save = res[2]\n",
    "                        AZIM_UNITS_FLAG = True\n",
    "\n",
    "                    res_2d.append(res[0])\n",
    "\n",
    "                frame_index.append(i)\n",
    "\n",
    "    with h5py.File(proc_path+'/'+scan_name+'_1d.h5', 'w') as hf:\n",
    "        hf.create_dataset('data', data=res_1d)\n",
    "        hf.create_dataset('calib', data=units_1d_to_save)\n",
    "        hf.create_dataset('frame_index', data=frame_index)\n",
    "        hf.create_dataset('original_file_path', data=file_path)\n",
    "        hf.create_dataset('session_path', data=session_path)\n",
    "        hf.create_dataset('scan_path', data=key)\n",
    "    \n",
    "    \n",
    "    with h5py.File(proc_path+'/'+scan_name+'_2d.h5', 'w') as hf:\n",
    "        hf.create_dataset('data', data=res_2d)\n",
    "        hf.create_dataset('calib', data=units_2d_to_save)\n",
    "        hf.create_dataset('degrees', data=degrees_2d_to_save)\n",
    "        hf.create_dataset('frame_index', data=frame_index)\n",
    "        hf.create_dataset('original_file_path', data=file_path)\n",
    "        hf.create_dataset('session_path', data=session_path)\n",
    "        hf.create_dataset('scan_path', data=key)\n",
    "            \n",
    "btn_10.on_click(btn_10_eventhandler)\n",
    "\n",
    "items_10 = [frame_numbers_input, btn_10, out_10]\n",
    "box_10 = ipywidgets.VBox(children=items_10)\n",
    "display(box_10)"
   ]
  },
  {
   "cell_type": "markdown",
   "metadata": {},
   "source": [
    "### Show results"
   ]
  },
  {
   "cell_type": "code",
   "execution_count": null,
   "metadata": {},
   "outputs": [],
   "source": [
    "# Display integrated images for single frame:\n",
    "frame_number = 10\n",
    "intensity_min = 0\n",
    "intensity_max = 50\n",
    "\n",
    "show_1d = True\n",
    "show_2d = False"
   ]
  },
  {
   "cell_type": "code",
   "execution_count": null,
   "metadata": {},
   "outputs": [],
   "source": [
    "if show_1d and show_2d:\n",
    "    fig, [ax1, ax2] = plt.subplots(1,2) \n",
    "\n",
    "    ax1.pcolormesh(azim_units, azim_degrees, azim_res[frame_number], vmin=intensity_min, vmax=intensity_max)\n",
    "    ax1.set_xlabel(units)\n",
    "\n",
    "    ax2.plot()\n",
    "elif show_1d and not show_2d:\n",
    "    fig, ax = plt.subplots() \n",
    "    ax.plot()\n",
    "elif show_2d and not show_1d:\n",
    "    pass\n",
    "\n",
    "plt.suptitle('Frame #'+str(frame_number))"
   ]
  },
  {
   "cell_type": "code",
   "execution_count": null,
   "metadata": {},
   "outputs": [],
   "source": [
    "plt.pcolormesh(azim_units, azim_degrees, azim_res[1], vmin=0, vmax=100)"
   ]
  }
 ],
 "metadata": {
  "hide_input": false,
  "kernelspec": {
   "display_name": "Python 3",
   "language": "python",
   "name": "python3"
  },
  "language_info": {
   "codemirror_mode": {
    "name": "ipython",
    "version": 3
   },
   "file_extension": ".py",
   "mimetype": "text/x-python",
   "name": "python",
   "nbconvert_exporter": "python",
   "pygments_lexer": "ipython3",
   "version": "3.8.10"
  }
 },
 "nbformat": 4,
 "nbformat_minor": 4
}
