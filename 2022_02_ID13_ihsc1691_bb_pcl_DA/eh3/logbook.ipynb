{
 "cells": [
  {
   "cell_type": "markdown",
   "id": "d177f91b-9a28-47fe-8f08-63888eb1a260",
   "metadata": {},
   "source": [
    "## Samples from IDA, bottlebrushes PCL\n",
    "\n",
    "ID13 (nano) ESRF 29/01/2022 - 30/01/2022  **IH-SC-1687**  \n",
    "**path:** /data/id13/inhouse3/DATAPOLICY_I3_1/eh3/inhouse/ihsc1687/id13/  \n",
    "**DOI** 10.15151/ESRF-ES-676020253  \n",
    "### Setup\n",
    "**Energy =** 13 kEv  \n",
    "**$\\lambda$ =** 1.2398/13 = 0.095369 nm  \n",
    "**detx position =** -220, about 23 cm  \n",
    "mll long-distance focusing lenses"
   ]
  },
  {
   "cell_type": "markdown",
   "id": "255488a6-bb23-47ca-94a8-aa1832e59350",
   "metadata": {
    "tags": []
   },
   "source": [
    "### Sample list  \n",
    "\n",
    "**holder 1**  \n",
    "bb-7-50-PCL  \n",
    "bb-9-50-PCL  \n",
    "**holder 2**  \n",
    "bb-9-100-PCL  \n",
    "bb-9-200-PCL  \n",
    "bb-11-50-PCL  \n",
    "bb-13-50-PCL  \n",
    "\n",
    "*holder 2 was from MRO, after mounting everything was mixed up!!! 7-50 and 11-50 are mixed up because of inverted microscope!!! 9-100 and 9-200 can be mixed up because of inrecognized writings from MRO*  \n",
    "measured as 9-50 is indeed 13_50  \n",
    "measured as 9-100 is indeed 9-50  \n",
    "measured as 9-200 is indeed 9-200  \n",
    "measured as 13-50 is indeed 9-100\n",
    "\n",
    "\n",
    "measured as 11-50 is indeed 7-50  \n",
    "measured as 7-50 is indeed 11-50"
   ]
  },
  {
   "cell_type": "markdown",
   "id": "e1e547f1-1158-4f6d-aad0-1ffd714dfdcb",
   "metadata": {},
   "source": [
    "scan #2 \n",
    "scan #17 in folder 7_50 is background\n"
   ]
  },
  {
   "cell_type": "markdown",
   "id": "03fc0aa3-428b-416d-921a-d97db8a31216",
   "metadata": {},
   "source": [
    "### Folders description\n",
    "```/mro_std_01``` - calibration  \n",
    "```/holder1``` was measured with Manfred and Martin after setup. Did not see the signal...  \n",
    "```/holder1_bis``` and ```/holder2``` were measured the next day  "
   ]
  },
  {
   "cell_type": "markdown",
   "id": "6209b161-f116-442c-972b-661b95096db2",
   "metadata": {},
   "source": [
    "### Scans  \n",
    "```/mro_std_01/mro_std_01_Al2O3m220p0```  \n",
    "scan0001 - kmap.dkmap(nnp2, -20, 20, 25, nnp3, -20, 20, 25, 0.02) @ ('Al2O3_in_50x')  \n",
    "scan0002 - kmap.dkmap(nnp2, -20, 20, 50, nnp3, -20, 20, 50, 0.02) @ ('Al2O3_in_50x')  **GOOD ONE!**\n",
    "  \n",
    "```/holder1_bis/```  \n",
    "```/holder1_bis_background```  \n",
    "scan0002 - background  \n",
    "```/holder1_bis_11_50```  \n",
    "scan0001 -  \n",
    "scan0002 -  \n",
    "scan0003 -  \n",
    "```holder1_bis_7_50```  \n",
    "scan0017 - kmap.dkmap(nnp2,-10, 10, 20, nnp3, -10, 10, 20, 0.2) @ ('holder1_bis_background_0013.json') background, shoud be better than scan0002 **GOOD ONE!**"
   ]
  },
  {
   "cell_type": "markdown",
   "id": "74daf13d-1e13-41df-a081-62fc496c8dff",
   "metadata": {},
   "source": [
    "| holder #1 | |\n",
    "| ----- | ----- |\n",
    "| 7_50  | <img src=\"./microphotos/pcl-bb_7-50_after.jpg\" width=\"300\" >  |\n",
    "| 11_50 | <img src=\"./microphotos/pcl-bb_11-50_after.jpg\" width=\"300\" > |  \n",
    "\n",
    "\n",
    "  \n",
    "| holder #2 | |\n",
    "| ----- | ----- |\n",
    "| 9_50  | <img src=\"./microphotos/pcl-bb_9-50_after.jpg\" width=\"300\" >  |\n",
    "| 9_100 | <img src=\"./microphotos/pcl-bb_9-100_after.jpg\" width=\"300\" > |\n",
    "| 9_200 | <img src=\"./microphotos/pcl-bb_9-200_after.jpg\" width=\"300\" > |\n",
    "| 13_50 | <img src=\"./microphotos/pcl-bb_13-50_after.jpg\" width=\"300\" > |"
   ]
  },
  {
   "cell_type": "code",
   "execution_count": null,
   "id": "2f1d366f-0364-498a-85ed-66f4740f64f9",
   "metadata": {},
   "outputs": [],
   "source": []
  }
 ],
 "metadata": {
  "kernelspec": {
   "display_name": "Python 3",
   "language": "python",
   "name": "python3"
  },
  "language_info": {
   "codemirror_mode": {
    "name": "ipython",
    "version": 3
   },
   "file_extension": ".py",
   "mimetype": "text/x-python",
   "name": "python",
   "nbconvert_exporter": "python",
   "pygments_lexer": "ipython3",
   "version": "3.8.10"
  }
 },
 "nbformat": 4,
 "nbformat_minor": 5
}
